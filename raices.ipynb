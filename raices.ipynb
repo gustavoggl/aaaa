{
 "cells": [
  {
   "cell_type": "code",
   "execution_count": 1,
   "metadata": {
    "collapsed": true
   },
   "outputs": [],
   "source": [
    "from pylab import *\n",
    "%matplotlib inline"
   ]
  },
  {
   "cell_type": "code",
   "execution_count": 2,
   "metadata": {
    "collapsed": true
   },
   "outputs": [],
   "source": [
    "def raiz_bip(func,x_i,x_d,err=1e-8):\n",
    "    raiz = 0.5*(x_i+x_d)\n",
    "    y_i,y_d = func(x_i),func(x_d)\n",
    "    n = 0\n",
    "    while abs(y_d)>=err:\n",
    "        y_m = func(raiz)\n",
    "        if y_m == 0.:\n",
    "            print \"chin, le atine :D\"\n",
    "            break\n",
    "        if y_m*y_i < 0:\n",
    "            x_d = raiz\n",
    "        else:\n",
    "            x_i = raiz\n",
    "        raiz = 0.5*(x_i+x_d)\n",
    "        y_i,y_d = func(x_i),func(x_d)\n",
    "        n += 1\n",
    "        print n,\"\\t\",raiz\n",
    "    return raiz"
   ]
  },
  {
   "cell_type": "code",
   "execution_count": 3,
   "metadata": {
    "collapsed": true
   },
   "outputs": [],
   "source": [
    "def mi_newton_1(func,d_func,x_ini,err=1e-8):\n",
    "    n=0\n",
    "    while abs(func(x_ini)) >= err:\n",
    "        print n,\"\\t\",x_ini\n",
    "        raiz = x_ini - func(x_ini)/d_func(x_ini)\n",
    "        x_ini = raiz\n",
    "        n += 1\n",
    "    return raiz"
   ]
  },
  {
   "cell_type": "code",
   "execution_count": 4,
   "metadata": {
    "collapsed": true
   },
   "outputs": [],
   "source": [
    "def mi_newton_2(func,x_ini,err=1e-8):\n",
    "    n=0\n",
    "    while abs(func(x_ini)) >= err:\n",
    "        print n,\"\\t\",x_ini\n",
    "        raiz = x_ini - func(x_ini)/num_dev(func,x_ini)\n",
    "        x_ini = raiz\n",
    "        n += 1\n",
    "    return raiz"
   ]
  },
  {
   "cell_type": "code",
   "execution_count": null,
   "metadata": {
    "collapsed": true
   },
   "outputs": [],
   "source": []
  }
 ],
 "metadata": {
  "kernelspec": {
   "display_name": "Python [Root]",
   "language": "python",
   "name": "Python [Root]"
  },
  "language_info": {
   "codemirror_mode": {
    "name": "ipython",
    "version": 2
   },
   "file_extension": ".py",
   "mimetype": "text/x-python",
   "name": "python",
   "nbconvert_exporter": "python",
   "pygments_lexer": "ipython2",
   "version": "2.7.12"
  }
 },
 "nbformat": 4,
 "nbformat_minor": 0
}
