{
 "cells": [
  {
   "cell_type": "code",
   "execution_count": 4,
   "metadata": {
    "collapsed": true
   },
   "outputs": [],
   "source": [
    "from pylab import *\n",
    "from scipy.integrate import *\n",
    "%matplotlib inline"
   ]
  },
  {
   "cell_type": "code",
   "execution_count": 65,
   "metadata": {
    "collapsed": false
   },
   "outputs": [],
   "source": [
    "def ec_mov(x_p,t,epsilon=1.):\n",
    "    #x_p = x,y,px,py\n",
    "    r32=(x_p[0]**2 +x_p[1]**2)**(1.5)\n",
    "    dx = x_p[2]\n",
    "    dy = epsilon*x_p[3]\n",
    "    dpx = -x_p[0]/r32\n",
    "    dpy = -x_p[1]/r32\n",
    "    return array([dx,dy,dpx,dpy])\n",
    "\n",
    "def energia(x_p,epsilon=1.):\n",
    "    #x_p = x,y,px,py\n",
    "    r = sqrt(x_p[0]**2 + x_p[1]**2)\n",
    "    E = 0.5*(x_p[2]**2 + epsilon*x_p[3]**2) - 1./r\n",
    "    return E\n",
    "\n",
    "def cond_ini(alfa,var=0.001):\n",
    "    angulo=alfa+var*(2.*rand())\n",
    "    x,y = cos(angulo) , sin(angulo)\n",
    "    return array([x,y,1,0])"
   ]
  },
  {
   "cell_type": "code",
   "execution_count": 66,
   "metadata": {
    "collapsed": false,
    "scrolled": false
   },
   "outputs": [
    {
     "name": "stdout",
     "output_type": "stream",
     "text": [
      "E= -0.5 E_f= -0.500000099346\n",
      "E= -0.5 E_f= -0.50000033697\n",
      "E= -0.5 E_f= -0.500000168753\n",
      "E= -0.5 E_f= -0.500000141993\n",
      "E= -0.5 E_f= -0.500000186464\n",
      "E= -0.5 E_f= -0.500000281283\n",
      "E= -0.5 E_f= -0.500000114217\n",
      "E= -0.5 E_f= -0.500000265738\n",
      "E= -0.5 E_f= -0.500000126433\n",
      "E= -0.5 E_f= -0.500000137571\n"
     ]
    },
    {
     "data": {
      "image/png": "[encoded data removed]",
      "text/plain": [
       "<matplotlib.figure.Figure at 0x7f71679bdf50>"
      ]
     },
     "metadata": {},
     "output_type": "display_data"
    }
   ],
   "source": [
    "t = arange(0,100,.0001)\n",
    "eps = 1.\n",
    "for i in range(10):\n",
    "    pto_ini = cond_ini(pi/4,0.1)\n",
    "    plot(pto_ini[0],pto_ini[1],'o')\n",
    "    sol = odeint(ec_mov,pto_ini,t,args=(eps,),atol=1e-9,rtol=1e-9)\n",
    "    plot(sol[:,0],sol[:,1])\n",
    "    print \"E=\", energia(pto_ini,eps), \"E_f=\", energia(sol[-1],eps)\n",
    "show()"
   ]
  },
  {
   "cell_type": "code",
   "execution_count": null,
   "metadata": {
    "collapsed": true
   },
   "outputs": [],
   "source": [
    "def prho(x_p):\n",
    "    x,y,px,py = x_p[:,0],x_p[:,1],x_p[:,2],x_p[:,3]\n",
    "    r = sqrt( x**2 + y**2)\n",
    "    \n",
    "    \n",
    "def root_trayectoria():\n",
    "    tip1 = ti - (pto_i[0]/pto_i[2])\n",
    "    paso = odeint(func,pto_i,[ti,tip1])\n",
    "    ti,pto_i = tip1,paso[-1]\n",
    "return ti,pto_i"
   ]
  },
  {
   "cell_type": "code",
   "execution_count": null,
   "metadata": {
    "collapsed": true
   },
   "outputs": [],
   "source": [
    "num = len(t)\n",
    "raices= zeros(num)\n",
    "puntos = zeros(num,4)\n",
    "j=0\n",
    "for i in range(len(t)-1):\n",
    "    if (sol[i][0]*sol[i+1][0]) < 0:\n",
    "        raices[j],puntos[j] = root_trayec(ec_mov,sol[i])"
   ]
  }
 ],
 "metadata": {
  "kernelspec": {
   "display_name": "Python [Root]",
   "language": "python",
   "name": "Python [Root]"
  },
  "language_info": {
   "codemirror_mode": {
    "name": "ipython",
    "version": 2
   },
   "file_extension": ".py",
   "mimetype": "text/x-python",
   "name": "python",
   "nbconvert_exporter": "python",
   "pygments_lexer": "ipython2",
   "version": "2.7.12"
  }
 },
 "nbformat": 4,
 "nbformat_minor": 0
}
